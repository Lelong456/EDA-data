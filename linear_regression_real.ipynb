{
 "cells": [
  {
   "cell_type": "code",
   "execution_count": 1,
   "id": "sitting-qatar",
   "metadata": {},
   "outputs": [
    {
     "name": "stdout",
     "output_type": "stream",
     "text": [
      "done\n"
     ]
    }
   ],
   "source": [
    "import pandas as pd \n",
    "import numpy as np\n",
    "from numpy import absolute\n",
    "import matplotlib\n",
    "import matplotlib.pyplot as plt\n",
    "matplotlib.style.use('ggplot')\n",
    "import seaborn as sns\n",
    "import warnings\n",
    "import scipy.stats as stats\n",
    "from sklearn import linear_model\n",
    "from sklearn.model_selection import train_test_split\n",
    "import sklearn.linear_model as lm\n",
    "from sklearn.metrics import mean_absolute_error, mean_squared_error, r2_score\n",
    "import statsmodels.api as sm\n",
    "print('done')"
   ]
  },
  {
   "cell_type": "code",
   "execution_count": 2,
   "id": "destroyed-relevance",
   "metadata": {},
   "outputs": [
    {
     "data": {
      "text/html": [
       "<div>\n",
       "<style scoped>\n",
       "    .dataframe tbody tr th:only-of-type {\n",
       "        vertical-align: middle;\n",
       "    }\n",
       "\n",
       "    .dataframe tbody tr th {\n",
       "        vertical-align: top;\n",
       "    }\n",
       "\n",
       "    .dataframe thead th {\n",
       "        text-align: right;\n",
       "    }\n",
       "</style>\n",
       "<table border=\"1\" class=\"dataframe\">\n",
       "  <thead>\n",
       "    <tr style=\"text-align: right;\">\n",
       "      <th></th>\n",
       "      <th>Mileage</th>\n",
       "      <th>Engine</th>\n",
       "      <th>Power</th>\n",
       "      <th>Seats</th>\n",
       "      <th>Ageofcar</th>\n",
       "      <th>Kilometers_Driven_log</th>\n",
       "      <th>Price_log</th>\n",
       "      <th>Location_Bangalore</th>\n",
       "      <th>Location_Chennai</th>\n",
       "      <th>Location_Coimbatore</th>\n",
       "      <th>...</th>\n",
       "      <th>Location_Pune</th>\n",
       "      <th>Fuel_Type_Diesel</th>\n",
       "      <th>Fuel_Type_Electric</th>\n",
       "      <th>Fuel_Type_LPG</th>\n",
       "      <th>Fuel_Type_Petrol</th>\n",
       "      <th>Transmission_Manual</th>\n",
       "      <th>Owner_Type_Fourth &amp; Above</th>\n",
       "      <th>Owner_Type_Second</th>\n",
       "      <th>Owner_Type_Third</th>\n",
       "      <th>Brand_Class_Low</th>\n",
       "    </tr>\n",
       "    <tr>\n",
       "      <th>S.No.</th>\n",
       "      <th></th>\n",
       "      <th></th>\n",
       "      <th></th>\n",
       "      <th></th>\n",
       "      <th></th>\n",
       "      <th></th>\n",
       "      <th></th>\n",
       "      <th></th>\n",
       "      <th></th>\n",
       "      <th></th>\n",
       "      <th></th>\n",
       "      <th></th>\n",
       "      <th></th>\n",
       "      <th></th>\n",
       "      <th></th>\n",
       "      <th></th>\n",
       "      <th></th>\n",
       "      <th></th>\n",
       "      <th></th>\n",
       "      <th></th>\n",
       "      <th></th>\n",
       "    </tr>\n",
       "  </thead>\n",
       "  <tbody>\n",
       "    <tr>\n",
       "      <th>0</th>\n",
       "      <td>26.60</td>\n",
       "      <td>998</td>\n",
       "      <td>58.16</td>\n",
       "      <td>5.0</td>\n",
       "      <td>11</td>\n",
       "      <td>11.184421</td>\n",
       "      <td>0.559616</td>\n",
       "      <td>0</td>\n",
       "      <td>0</td>\n",
       "      <td>0</td>\n",
       "      <td>...</td>\n",
       "      <td>0</td>\n",
       "      <td>0</td>\n",
       "      <td>0</td>\n",
       "      <td>0</td>\n",
       "      <td>0</td>\n",
       "      <td>1</td>\n",
       "      <td>0</td>\n",
       "      <td>0</td>\n",
       "      <td>0</td>\n",
       "      <td>1</td>\n",
       "    </tr>\n",
       "    <tr>\n",
       "      <th>1</th>\n",
       "      <td>19.67</td>\n",
       "      <td>1582</td>\n",
       "      <td>126.20</td>\n",
       "      <td>5.0</td>\n",
       "      <td>6</td>\n",
       "      <td>10.621327</td>\n",
       "      <td>2.525729</td>\n",
       "      <td>0</td>\n",
       "      <td>0</td>\n",
       "      <td>0</td>\n",
       "      <td>...</td>\n",
       "      <td>1</td>\n",
       "      <td>1</td>\n",
       "      <td>0</td>\n",
       "      <td>0</td>\n",
       "      <td>0</td>\n",
       "      <td>1</td>\n",
       "      <td>0</td>\n",
       "      <td>0</td>\n",
       "      <td>0</td>\n",
       "      <td>1</td>\n",
       "    </tr>\n",
       "    <tr>\n",
       "      <th>2</th>\n",
       "      <td>18.20</td>\n",
       "      <td>1199</td>\n",
       "      <td>88.70</td>\n",
       "      <td>5.0</td>\n",
       "      <td>10</td>\n",
       "      <td>10.736397</td>\n",
       "      <td>1.504077</td>\n",
       "      <td>0</td>\n",
       "      <td>1</td>\n",
       "      <td>0</td>\n",
       "      <td>...</td>\n",
       "      <td>0</td>\n",
       "      <td>0</td>\n",
       "      <td>0</td>\n",
       "      <td>0</td>\n",
       "      <td>1</td>\n",
       "      <td>1</td>\n",
       "      <td>0</td>\n",
       "      <td>0</td>\n",
       "      <td>0</td>\n",
       "      <td>1</td>\n",
       "    </tr>\n",
       "    <tr>\n",
       "      <th>3</th>\n",
       "      <td>20.77</td>\n",
       "      <td>1248</td>\n",
       "      <td>88.76</td>\n",
       "      <td>7.0</td>\n",
       "      <td>9</td>\n",
       "      <td>11.373663</td>\n",
       "      <td>1.791759</td>\n",
       "      <td>0</td>\n",
       "      <td>1</td>\n",
       "      <td>0</td>\n",
       "      <td>...</td>\n",
       "      <td>0</td>\n",
       "      <td>1</td>\n",
       "      <td>0</td>\n",
       "      <td>0</td>\n",
       "      <td>0</td>\n",
       "      <td>1</td>\n",
       "      <td>0</td>\n",
       "      <td>0</td>\n",
       "      <td>0</td>\n",
       "      <td>1</td>\n",
       "    </tr>\n",
       "    <tr>\n",
       "      <th>4</th>\n",
       "      <td>15.20</td>\n",
       "      <td>1968</td>\n",
       "      <td>140.80</td>\n",
       "      <td>5.0</td>\n",
       "      <td>8</td>\n",
       "      <td>10.613246</td>\n",
       "      <td>2.875822</td>\n",
       "      <td>0</td>\n",
       "      <td>0</td>\n",
       "      <td>1</td>\n",
       "      <td>...</td>\n",
       "      <td>0</td>\n",
       "      <td>1</td>\n",
       "      <td>0</td>\n",
       "      <td>0</td>\n",
       "      <td>0</td>\n",
       "      <td>0</td>\n",
       "      <td>0</td>\n",
       "      <td>1</td>\n",
       "      <td>0</td>\n",
       "      <td>0</td>\n",
       "    </tr>\n",
       "  </tbody>\n",
       "</table>\n",
       "<p>5 rows × 26 columns</p>\n",
       "</div>"
      ],
      "text/plain": [
       "       Mileage  Engine   Power  Seats  Ageofcar  Kilometers_Driven_log  \\\n",
       "S.No.                                                                    \n",
       "0        26.60     998   58.16    5.0        11              11.184421   \n",
       "1        19.67    1582  126.20    5.0         6              10.621327   \n",
       "2        18.20    1199   88.70    5.0        10              10.736397   \n",
       "3        20.77    1248   88.76    7.0         9              11.373663   \n",
       "4        15.20    1968  140.80    5.0         8              10.613246   \n",
       "\n",
       "       Price_log  Location_Bangalore  Location_Chennai  Location_Coimbatore  \\\n",
       "S.No.                                                                         \n",
       "0       0.559616                   0                 0                    0   \n",
       "1       2.525729                   0                 0                    0   \n",
       "2       1.504077                   0                 1                    0   \n",
       "3       1.791759                   0                 1                    0   \n",
       "4       2.875822                   0                 0                    1   \n",
       "\n",
       "       ...  Location_Pune  Fuel_Type_Diesel  Fuel_Type_Electric  \\\n",
       "S.No.  ...                                                        \n",
       "0      ...              0                 0                   0   \n",
       "1      ...              1                 1                   0   \n",
       "2      ...              0                 0                   0   \n",
       "3      ...              0                 1                   0   \n",
       "4      ...              0                 1                   0   \n",
       "\n",
       "       Fuel_Type_LPG  Fuel_Type_Petrol  Transmission_Manual  \\\n",
       "S.No.                                                         \n",
       "0                  0                 0                    1   \n",
       "1                  0                 0                    1   \n",
       "2                  0                 1                    1   \n",
       "3                  0                 0                    1   \n",
       "4                  0                 0                    0   \n",
       "\n",
       "       Owner_Type_Fourth & Above  Owner_Type_Second  Owner_Type_Third  \\\n",
       "S.No.                                                                   \n",
       "0                              0                  0                 0   \n",
       "1                              0                  0                 0   \n",
       "2                              0                  0                 0   \n",
       "3                              0                  0                 0   \n",
       "4                              0                  1                 0   \n",
       "\n",
       "       Brand_Class_Low  \n",
       "S.No.                   \n",
       "0                    1  \n",
       "1                    1  \n",
       "2                    1  \n",
       "3                    1  \n",
       "4                    0  \n",
       "\n",
       "[5 rows x 26 columns]"
      ]
     },
     "execution_count": 2,
     "metadata": {},
     "output_type": "execute_result"
    }
   ],
   "source": [
    "file_name = 'D:/ĐỒ ÁN/DoAn2/dữ liệu/data1/used_cars_data_update.csv'\n",
    "df = pd.read_csv(file_name, index_col=0)\n",
    "df.head(5)"
   ]
  },
  {
   "cell_type": "code",
   "execution_count": 3,
   "id": "confirmed-capability",
   "metadata": {},
   "outputs": [],
   "source": [
    "X = df.drop([\"Price_log\"], axis=1).values\n",
    "y = df[[\"Price_log\"]].values"
   ]
  },
  {
   "cell_type": "code",
   "execution_count": 4,
   "id": "material-sunglasses",
   "metadata": {},
   "outputs": [
    {
     "name": "stdout",
     "output_type": "stream",
     "text": [
      "X_train: (4213, 25)\n",
      "X_test: (1806, 25)\n",
      "y_train: (4213, 1)\n",
      "y_test: (1806, 1)\n"
     ]
    }
   ],
   "source": [
    "X_train, X_test, y_train, y_test = train_test_split(X, y, test_size=0.3, random_state=0)\n",
    "# X_train.reset_index()\n",
    "print(\"X_train:\",X_train.shape)\n",
    "print(\"X_test:\",X_test.shape)\n",
    "print(\"y_train:\",y_train.shape)\n",
    "print(\"y_test:\",y_test.shape)"
   ]
  },
  {
   "cell_type": "code",
   "execution_count": 5,
   "id": "visible-debate",
   "metadata": {},
   "outputs": [
    {
     "name": "stdout",
     "output_type": "stream",
     "text": [
      "[[0.55961579]\n",
      " [2.52572864]\n",
      " [1.5040774 ]\n",
      " ...\n",
      " [1.06471074]\n",
      " [0.97455964]\n",
      " [0.91629073]]\n"
     ]
    }
   ],
   "source": [
    "print(y)"
   ]
  },
  {
   "cell_type": "code",
   "execution_count": 6,
   "id": "romance-digest",
   "metadata": {},
   "outputs": [
    {
     "data": {
      "text/plain": [
       "LinearRegression()"
      ]
     },
     "execution_count": 6,
     "metadata": {},
     "output_type": "execute_result"
    }
   ],
   "source": [
    "regr = linear_model.LinearRegression(fit_intercept=True) \n",
    "regr.fit(X_train,y_train)"
   ]
  },
  {
   "cell_type": "code",
   "execution_count": 7,
   "id": "married-secretary",
   "metadata": {},
   "outputs": [
    {
     "name": "stdout",
     "output_type": "stream",
     "text": [
      "[[2.04300817]\n",
      " [1.20920668]\n",
      " [1.56615419]\n",
      " ...\n",
      " [1.98712001]\n",
      " [3.38184771]\n",
      " [1.63589338]]\n"
     ]
    }
   ],
   "source": [
    "y_pred = regr.predict(X_test)\n",
    "print(y_pred)"
   ]
  },
  {
   "cell_type": "markdown",
   "id": "speaking-maximum",
   "metadata": {},
   "source": [
    "Để kiểm chứng tốt hơn ta sẽ đánh giá qua các tham số sau: mean_absolute_error, mean_squared_error, r2_score"
   ]
  },
  {
   "cell_type": "code",
   "execution_count": 8,
   "id": "excellent-partner",
   "metadata": {},
   "outputs": [
    {
     "name": "stdout",
     "output_type": "stream",
     "text": [
      "R-squared:  0.881106453034293\n",
      "MAE:  0.2187651608028209\n",
      "RMSE:  0.29910639401455374\n",
      "MAPE:  17.61070851781964\n"
     ]
    }
   ],
   "source": [
    "import math\n",
    "#R-squared cho ta biết mức độ các biến đầu vào (biến đầu vào) sẽ giải thích được bao nhiêu phần trăm các biến mục tiêu. \n",
    "print(\"R-squared: \", r2_score(y_test,y_pred))\n",
    "#Trung bình của sai biệt tuyệt đối\n",
    "print(\"MAE: \",mean_absolute_error(y_test,y_pred))\n",
    "#Căn bậc 2 của trung bình bình phương sai số \n",
    "print(\"RMSE: \", math.sqrt(mean_squared_error(y_test,y_pred)))\n",
    "def MAPE(Y_actual,Y_Predicted):\n",
    "    mape = np.mean(np.abs((Y_actual - Y_Predicted)/Y_actual))*100\n",
    "    return mape\n",
    "LR_MAPE = MAPE(y_pred,y_test)\n",
    "print(\"MAPE: \",LR_MAPE)"
   ]
  },
  {
   "cell_type": "markdown",
   "id": "exposed-insurance",
   "metadata": {},
   "source": [
    "Đánh giá độ tương quan giữa giá trị thực tế và giá trị dự đoán của mô hình qua đồ thị sau"
   ]
  },
  {
   "cell_type": "code",
   "execution_count": 9,
   "id": "pleased-patrol",
   "metadata": {},
   "outputs": [
    {
     "data": {
      "image/png": "[encoded data removed]",
      "text/plain": [
       "<Figure size 1080x720 with 1 Axes>"
      ]
     },
     "metadata": {},
     "output_type": "display_data"
    }
   ],
   "source": [
    "plt.figure(figsize=(15,10))\n",
    "plt.scatter(y_test,y_pred,color='red', linewidths = 2,marker =\"o\")\n",
    "plt.xlabel('y_test')\n",
    "plt.ylabel('y_pred')\n",
    "plt.title('y_test and y_pred')\n",
    "plt.savefig('D:/Linear.png')"
   ]
  },
  {
   "cell_type": "code",
   "execution_count": 14,
   "id": "analyzed-instrumentation",
   "metadata": {},
   "outputs": [
    {
     "name": "stdout",
     "output_type": "stream",
     "text": [
      "          0   Dự đoán\n",
      "0  1.981001  2.043008\n",
      "1  1.446919  1.209207\n",
      "2  1.360977  1.566154\n",
      "3  2.129421  2.582777\n",
      "4  2.601207  2.535338\n",
      "5  1.446919  1.556327\n",
      "6  1.677097  1.507254\n",
      "7  0.512824  0.317932\n",
      "8  1.321756  1.519635\n",
      "9  1.178655  1.410860 \n",
      "\n"
     ]
    }
   ],
   "source": [
    "Chenh_lech = pd.DataFrame(y_test[0:10])\n",
    "Chenh_lech['Dự đoán'] = y_pred[0:10]\n",
    "#Chenh_lech['Chênh lệch'] = Chenh_lech['Dự đoán'] - Chenh_lech['Price_log']\n",
    "print(Chenh_lech, \"\\n\")"
   ]
  },
  {
   "cell_type": "markdown",
   "id": "saving-cancellation",
   "metadata": {},
   "source": [
    "##### Ta có thể thấy giá trị dự đoán và giá trị thực tế khá là gần nhau \n"
   ]
  },
  {
   "cell_type": "code",
   "execution_count": 15,
   "id": "biological-research",
   "metadata": {},
   "outputs": [
    {
     "name": "stdout",
     "output_type": "stream",
     "text": [
      "[[1.9373649 ]\n",
      " [1.16930301]\n",
      " [1.66881957]\n",
      " ...\n",
      " [1.99023172]\n",
      " [3.51448402]\n",
      " [1.63150824]]\n"
     ]
    }
   ],
   "source": [
    "X1 = df.drop([\"Price_log\",\"Power\"], axis=1).values\n",
    "y1 = df[[\"Price_log\"]].values\n",
    "X1_train, X1_test, y1_train, y1_test = train_test_split(X1, y1, test_size=0.3, random_state=0)\n",
    "regr = linear_model.LinearRegression(fit_intercept=True) \n",
    "regr.fit(X1_train,y1_train)\n",
    "y1_pred = regr.predict(X1_test)\n",
    "print(y1_pred)"
   ]
  },
  {
   "cell_type": "code",
   "execution_count": 16,
   "id": "indirect-intranet",
   "metadata": {},
   "outputs": [
    {
     "name": "stdout",
     "output_type": "stream",
     "text": [
      "R-squared:  0.8590396583353892\n",
      "MAE:  0.24613371752964477\n",
      "RMSE:  0.3256829529608451\n",
      "MAPE:  19.9819562800351\n"
     ]
    }
   ],
   "source": [
    "import math\n",
    "#R-squared cho ta biết mức độ các biến đầu vào (biến đầu vào) sẽ giải thích được bao nhiêu phần trăm các biến mục tiêu. \n",
    "print(\"R-squared: \", r2_score(y1_test,y1_pred))\n",
    "#Trung bình của sai biệt tuyệt đối\n",
    "print(\"MAE: \",mean_absolute_error(y1_test,y1_pred))\n",
    "#Căn bậc 2 của trung bình bình phương sai số \n",
    "print(\"RMSE: \", math.sqrt(mean_squared_error(y1_test,y1_pred)))\n",
    "def MAPE(Y_actual,Y_Predicted):\n",
    "    mape = np.mean(np.abs((Y_actual - Y_Predicted)/Y_actual))*100\n",
    "    return mape\n",
    "LR_MAPE1 = MAPE(y1_pred,y1_test)\n",
    "print(\"MAPE: \",LR_MAPE1)"
   ]
  },
  {
   "cell_type": "code",
   "execution_count": null,
   "id": "fresh-dominican",
   "metadata": {},
   "outputs": [],
   "source": []
  },
  {
   "cell_type": "code",
   "execution_count": null,
   "id": "fifty-antarctica",
   "metadata": {},
   "outputs": [],
   "source": []
  },
  {
   "cell_type": "code",
   "execution_count": null,
   "id": "vocal-secretary",
   "metadata": {},
   "outputs": [],
   "source": []
  },
  {
   "cell_type": "code",
   "execution_count": null,
   "id": "novel-gabriel",
   "metadata": {},
   "outputs": [],
   "source": []
  },
  {
   "cell_type": "code",
   "execution_count": null,
   "id": "retired-discount",
   "metadata": {},
   "outputs": [],
   "source": []
  },
  {
   "cell_type": "code",
   "execution_count": null,
   "id": "renewable-rings",
   "metadata": {},
   "outputs": [],
   "source": []
  },
  {
   "cell_type": "code",
   "execution_count": null,
   "id": "nasty-newsletter",
   "metadata": {},
   "outputs": [],
   "source": []
  },
  {
   "cell_type": "code",
   "execution_count": null,
   "id": "upset-citizenship",
   "metadata": {},
   "outputs": [],
   "source": []
  }
 ],
 "metadata": {
  "kernelspec": {
   "display_name": "Python 3",
   "language": "python",
   "name": "python3"
  },
  "language_info": {
   "codemirror_mode": {
    "name": "ipython",
    "version": 3
   },
   "file_extension": ".py",
   "mimetype": "text/x-python",
   "name": "python",
   "nbconvert_exporter": "python",
   "pygments_lexer": "ipython3",
   "version": "3.9.6"
  }
 },
 "nbformat": 4,
 "nbformat_minor": 5
}
